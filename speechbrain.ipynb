{
 "cells": [
  {
   "cell_type": "code",
   "execution_count": 1,
   "id": "80ae2ea1-b192-410c-9086-bc691cb84fd3",
   "metadata": {
    "tags": []
   },
   "outputs": [
    {
     "name": "stderr",
     "output_type": "stream",
     "text": [
      "/home/snark/anaconda3/envs/jiwoo-diffsvc/lib/python3.8/site-packages/tqdm/auto.py:21: TqdmWarning: IProgress not found. Please update jupyter and ipywidgets. See https://ipywidgets.readthedocs.io/en/stable/user_install.html\n",
      "  from .autonotebook import tqdm as notebook_tqdm\n"
     ]
    }
   ],
   "source": [
    "from speechbrain.pretrained import SepformerSeparation as separator\n",
    "import torchaudio\n"
   ]
  },
  {
   "cell_type": "code",
   "execution_count": 2,
   "id": "841909a0-41f1-489c-9a33-15a3b04a4f88",
   "metadata": {
    "tags": []
   },
   "outputs": [],
   "source": [
    "model = separator.from_hparams(source=\"speechbrain/sepformer-wsj02mix\", savedir='pretrained_models/sepformer-wsj02mix')\n",
    "\n"
   ]
  },
  {
   "cell_type": "code",
   "execution_count": null,
   "id": "512ffde0-3c0b-4835-8e89-06bda253ef57",
   "metadata": {
    "tags": []
   },
   "outputs": [],
   "source": [
    "# for custom file, change path\n",
    "est_sources = model.separate_file(path='dereverb/mChonNFSfeQ.wav') \n",
    "\n",
    "torchaudio.save(\"source1hat.wav\", est_sources[:, :, 0].detach().cpu(), 44100)\n",
    "torchaudio.save(\"source2hat.wav\", est_sources[:, :, 1].detach().cpu(), 44100)"
   ]
  },
  {
   "cell_type": "code",
   "execution_count": null,
   "id": "c9ec3661-289f-47c2-9116-6182fc4cc83f",
   "metadata": {},
   "outputs": [],
   "source": []
  }
 ],
 "metadata": {
  "kernelspec": {
   "display_name": "SNARK",
   "language": "python",
   "name": "snark"
  },
  "language_info": {
   "codemirror_mode": {
    "name": "ipython",
    "version": 3
   },
   "file_extension": ".py",
   "mimetype": "text/x-python",
   "name": "python",
   "nbconvert_exporter": "python",
   "pygments_lexer": "ipython3",
   "version": "3.9.18"
  }
 },
 "nbformat": 4,
 "nbformat_minor": 5
}
